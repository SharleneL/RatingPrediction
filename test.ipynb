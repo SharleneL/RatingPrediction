{
 "cells": [
  {
   "cell_type": "code",
   "execution_count": 13,
   "metadata": {
    "collapsed": false
   },
   "outputs": [
    {
     "name": "stdout",
     "output_type": "stream",
     "text": [
      "[[ 0.33333333  0.33333333  0.33333333  0.33333333]\n",
      " [ 0.33333333  0.33333333  0.33333333  0.33333333]\n",
      " [ 0.33333333  0.33333333  0.33333333  0.33333333]]\n",
      "[[ 1  4  9]\n",
      " [ 1  1 16]]\n",
      "[14 18]\n"
     ]
    }
   ],
   "source": [
    "import numpy as np\n",
    "\n",
    "W = np.ones(shape=(3, 4)) * float(1)/3\n",
    "print W\n",
    "W.shape[0] # row\n",
    "W.shape[1] # col\n",
    "\n",
    "\n",
    "c = np.array([[ 1, 2, 3],\n",
    "              [-1, 1, 4]])\n",
    "A = np.square(c)\n",
    "print A\n",
    "print np.sum(A, axis = 1) # sum each row"
   ]
  },
  {
   "cell_type": "code",
   "execution_count": 11,
   "metadata": {
    "collapsed": false
   },
   "outputs": [
    {
     "name": "stdout",
     "output_type": "stream",
     "text": [
      "[[1 0 2]\n",
      " [0 0 3]\n",
      " [4 5 6]\n",
      " [0 2 0]]\n",
      "[[2 0 3]\n",
      " [0 0 4]\n",
      " [5 6 2]\n",
      " [0 1 0]]\n"
     ]
    },
    {
     "data": {
      "text/plain": [
       "array([[ 8,  8,  9,  0],\n",
       "       [ 9, 12,  6,  0],\n",
       "       [26, 24, 62,  5],\n",
       "       [ 0,  0, 12,  2]])"
      ]
     },
     "execution_count": 11,
     "metadata": {},
     "output_type": "execute_result"
    }
   ],
   "source": [
    "from scipy.sparse import csr_matrix\n",
    "import numpy as np\n",
    "\n",
    "row = np.array([0, 0, 1, 2, 2, 2, 3])\n",
    "col = np.array([0, 2, 2, 0, 1, 2, 1])\n",
    "data1 = np.array([1, 2, 3, 4, 5, 6, 2])\n",
    "data2 = np.array([2, 3, 4, 5, 6, 2, 1])\n",
    "M1 = csr_matrix((data1, (row, col)), shape=(4, 3))\n",
    "M2 = csr_matrix((data2, (row, col)), shape=(4, 3))\n",
    "print M1.toarray()\n",
    "print M2.toarray()\n",
    "\n",
    "np.multiply(M1.toarray(), M2.toarray())\n",
    "np.dot(M1.toarray(), M2.toarray().T)\n",
    "# print M[1:3].toarray()  # slices out [1, 3)\n",
    "\n",
    "# print M.toarray()\n",
    "# denom = np.array([2, 2, 2])\n",
    "# print np.divide(M.toarray().T, denom.T)\n",
    "# M.getrow(0).toarray() # get the 0-th row\n",
    "# M.get_shape()[0] # row len\n",
    "# M.get_shape()[1] # col len"
   ]
  },
  {
   "cell_type": "code",
   "execution_count": 25,
   "metadata": {
    "collapsed": false
   },
   "outputs": [
    {
     "name": "stdout",
     "output_type": "stream",
     "text": [
      "[ 2.71828183  2.71828183  2.71828183  2.71828183  2.71828183]\n"
     ]
    }
   ],
   "source": [
    "l = [1] * 5\n",
    "out = np.exp(l)\n",
    "print out"
   ]
  },
  {
   "cell_type": "code",
   "execution_count": 29,
   "metadata": {
    "collapsed": false
   },
   "outputs": [
    {
     "name": "stdout",
     "output_type": "stream",
     "text": [
      "0.200000119653\n"
     ]
    }
   ],
   "source": [
    "import math\n",
    "print math.exp(0.3)/6.74929"
   ]
  },
  {
   "cell_type": "code",
   "execution_count": 33,
   "metadata": {
    "collapsed": false
   },
   "outputs": [
    {
     "name": "stdout",
     "output_type": "stream",
     "text": [
      "0\n",
      "1\n",
      "2\n",
      "3\n",
      "4\n",
      "5\n",
      "6\n",
      "7\n",
      "8\n",
      "9\n",
      "10\n",
      "11\n",
      "12\n",
      "13\n",
      "14\n",
      "15\n",
      "16\n",
      "17\n",
      "18\n",
      "19\n",
      "20\n",
      "21\n",
      "22\n",
      "23\n",
      "24\n",
      "25\n",
      "26\n",
      "27\n",
      "28\n",
      "29\n",
      "30\n",
      "31\n",
      "32\n",
      "33\n",
      "34\n",
      "35\n",
      "36\n",
      "37\n",
      "38\n",
      "39\n",
      "40\n",
      "41\n",
      "42\n",
      "43\n",
      "44\n",
      "45\n",
      "46\n",
      "47\n"
     ]
    }
   ],
   "source": [
    "iter = 0\n",
    "batch_size = 3\n",
    "while batch_size * (iter + 1) < 50: \n",
    "    for i in range(batch_size * iter, batch_size * (iter+1)):\n",
    "        print i\n",
    "    iter += 1"
   ]
  },
  {
   "cell_type": "code",
   "execution_count": 47,
   "metadata": {
    "collapsed": false
   },
   "outputs": [
    {
     "data": {
      "text/plain": [
       "[1, 3, 4, 6, 3, 4, 2, 4, 3, 3]"
      ]
     },
     "execution_count": 47,
     "metadata": {},
     "output_type": "execute_result"
    }
   ],
   "source": [
    "l1 = [1, 3, 4, 6, 3]\n",
    "l2 = [4, 2, 4, 3, 3]\n",
    "l1 + l2"
   ]
  },
  {
   "cell_type": "code",
   "execution_count": 43,
   "metadata": {
    "collapsed": false
   },
   "outputs": [
    {
     "data": {
      "text/plain": [
       "0.999999327347282"
      ]
     },
     "execution_count": 43,
     "metadata": {},
     "output_type": "execute_result"
    }
   ],
   "source": [
    "import math\n",
    "math.log(2.71828)"
   ]
  },
  {
   "cell_type": "code",
   "execution_count": 45,
   "metadata": {
    "collapsed": false
   },
   "outputs": [
    {
     "data": {
      "text/plain": [
       "1e-06"
      ]
     },
     "execution_count": 45,
     "metadata": {},
     "output_type": "execute_result"
    }
   ],
   "source": [
    "10E-7\n"
   ]
  },
  {
   "cell_type": "code",
   "execution_count": 46,
   "metadata": {
    "collapsed": false
   },
   "outputs": [
    {
     "name": "stdout",
     "output_type": "stream",
     "text": [
      "['lksdf', 'lkdsfjsl', 'ldkfjsksd', 'lksjfkjsdf', 'kdjf']\n"
     ]
    }
   ],
   "source": [
    "l = 'lksdf   lkdsfjsl ldkfjsksd lksjfkjsdf    kdjf  '\n",
    "print (l.split())"
   ]
  },
  {
   "cell_type": "code",
   "execution_count": null,
   "metadata": {
    "collapsed": true
   },
   "outputs": [],
   "source": []
  }
 ],
 "metadata": {
  "kernelspec": {
   "display_name": "Python 2",
   "language": "python",
   "name": "python2"
  },
  "language_info": {
   "codemirror_mode": {
    "name": "ipython",
    "version": 2
   },
   "file_extension": ".py",
   "mimetype": "text/x-python",
   "name": "python",
   "nbconvert_exporter": "python",
   "pygments_lexer": "ipython2",
   "version": "2.7.11"
  }
 },
 "nbformat": 4,
 "nbformat_minor": 0
}
